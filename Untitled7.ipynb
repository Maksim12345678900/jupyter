{
 "cells": [
  {
   "cell_type": "code",
   "execution_count": 2,
   "id": "a55864b8-2ac7-4ae1-a5f3-97d612dca2cf",
   "metadata": {},
   "outputs": [
    {
     "name": "stdout",
     "output_type": "stream",
     "text": [
      "['Hello', 'world']\n"
     ]
    }
   ],
   "source": [
    "def array_to_words(char_array):\n",
    "    return ''.join(char_array).split(' ')\n",
    "\n",
    "# Пример использования:\n",
    "char_array = ['H', 'e', 'l', 'l', 'o', ' ', 'w', 'o', 'r', 'l', 'd']\n",
    "words = array_to_words(char_array)\n",
    "print(words)  # [\"Hello\", \"world\"]"
   ]
  },
  {
   "cell_type": "code",
   "execution_count": 4,
   "id": "0bd82123-074e-4349-9991-f8878f95b1c1",
   "metadata": {},
   "outputs": [
    {
     "ename": "SyntaxError",
     "evalue": "invalid syntax (1316471389.py, line 1)",
     "output_type": "error",
     "traceback": [
      "\u001b[1;36m  Cell \u001b[1;32mIn[4], line 1\u001b[1;36m\u001b[0m\n\u001b[1;33m    function greetUser(user) {\u001b[0m\n\u001b[1;37m             ^\u001b[0m\n\u001b[1;31mSyntaxError\u001b[0m\u001b[1;31m:\u001b[0m invalid syntax\n"
     ]
    }
   ],
   "source": [
    "function greetUser(user) {\n",
    "  console.log(`Привет, ${user.username}, вам ${user.age} лет!`);\n",
    "}\n",
    "\n",
    "// Пример использования:\n",
    "let user = {\n",
    "  username: 'Иван',\n",
    "  age: 25\n",
    "};\n",
    "\n",
    "greetUser(user); // Привет, Иван, вам 25 лет!"
   ]
  }
 ],
 "metadata": {
  "kernelspec": {
   "display_name": "Python 3 (ipykernel)",
   "language": "python",
   "name": "python3"
  },
  "language_info": {
   "codemirror_mode": {
    "name": "ipython",
    "version": 3
   },
   "file_extension": ".py",
   "mimetype": "text/x-python",
   "name": "python",
   "nbconvert_exporter": "python",
   "pygments_lexer": "ipython3",
   "version": "3.12.3"
  }
 },
 "nbformat": 4,
 "nbformat_minor": 5
}
